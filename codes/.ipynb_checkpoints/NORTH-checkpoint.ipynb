{
 "cells": [
  {
   "cell_type": "markdown",
   "metadata": {},
   "source": [
    "# NORTH : \n",
    "# a highly accurate and scalable Naive Bayes based ORTHologous gene cluster prediction algorithm"
   ]
  },
  {
   "cell_type": "markdown",
   "metadata": {},
   "source": [
    "# Importing Libraries\n",
    "\n",
    "Importing the necessary modules"
   ]
  },
  {
   "cell_type": "code",
   "execution_count": null,
   "metadata": {},
   "outputs": [],
   "source": [
    "import os\n",
    "import pickle\n",
    "\n",
    "import numpy as np\n",
    "from tqdm import tqdm_notebook as tqdm\n",
    "from math import ceil, log10\n",
    "from Bio import SeqIO\n",
    "from sklearn.metrics import classification_report, confusion_matrix"
   ]
  },
  {
   "cell_type": "markdown",
   "metadata": {},
   "source": [
    "# Reading Clusters\n",
    "\n",
    "To use NORTH we need to save each of the orthologous clusters as seprate fasta files. The name of the fasta file represents the name of the orthologous cluster. These fasta files need to be put in a directory together (for example, please see the *sample_clusters* directory)\n",
    "\n",
    "The *readFastas* function from **ReadFastas.py** traverses a given directory and reads all the orthologous clusters.\n",
    "\n",
    "However, the*readFastas* function will ignore the Outliers.fasta \n",
    "\n"
   ]
  },
  {
   "cell_type": "code",
   "execution_count": null,
   "metadata": {},
   "outputs": [],
   "source": [
    "from ReadFastas import readFastas\n",
    "\n",
    "readFastas(data_path='sample_clusters', save_file_name='sample_data.p', n_clusters=5, min_cnt=None, K=5)"
   ]
  },
  {
   "cell_type": "markdown",
   "metadata": {},
   "source": [
    "# Using the Naive Bayes Model\n",
    "\n",
    "The model is described in **ScalableNaiveBayes.py**"
   ]
  },
  {
   "cell_type": "markdown",
   "metadata": {},
   "source": [
    "## Load the data\n",
    "\n",
    "First we need to load the data and format it in a manner convenient for the model.\n",
    "\n",
    "The clusters read by *readFastas()* are loaded in this stage\n",
    "\n",
    "The function *formatData* formats the cluster data\n",
    "\n"
   ]
  },
  {
   "cell_type": "code",
   "execution_count": null,
   "metadata": {},
   "outputs": [],
   "source": [
    "from OrthologClustering import formatData\n",
    "\n",
    "# Load the data\n",
    "\n",
    "(X, Y, v_size) = pickle.load(open('sample_data.p', 'rb'))      # as obtained from the readFastas() function\n",
    "\n",
    "# Prepare the data for training\n",
    "\n",
    "(documents, total) = formatData(X, Y)"
   ]
  },
  {
   "cell_type": "markdown",
   "metadata": {},
   "source": [
    "## Creating a model\n",
    "\n",
    "Next we need to initialize the naive bayes model with parameters like v_size, total_data, n_child etc. More details on the parameters can be found in **ScalableNaiveBayes.py**"
   ]
  },
  {
   "cell_type": "code",
   "execution_count": null,
   "metadata": {},
   "outputs": [],
   "source": [
    "from ScalableNaiveBayes import *\n",
    "\n",
    "nb = ScalableNaiveBayes(model_id='dummy_model', v_size=v_size, total_data=total, n_child=1) # initializing the naive bayes model"
   ]
  },
  {
   "cell_type": "markdown",
   "metadata": {},
   "source": [
    "## Train the model\n",
    "\n",
    "After initializing the model and loading the data. The model can be trained simply as..."
   ]
  },
  {
   "cell_type": "code",
   "execution_count": null,
   "metadata": {},
   "outputs": [],
   "source": [
    "nb.train(documents, K=5)"
   ]
  },
  {
   "cell_type": "markdown",
   "metadata": {},
   "source": [
    "## Make prediction with the model\n",
    "\n",
    "After training the model we can make predictions simply as... \n"
   ]
  },
  {
   "cell_type": "code",
   "execution_count": null,
   "metadata": {},
   "outputs": [],
   "source": [
    "YP = nb.predict([ X[0] ],proba=False)\n",
    "\n",
    "print(YP)"
   ]
  },
  {
   "cell_type": "markdown",
   "metadata": {},
   "source": [
    "# Stratified 10 Fold Cross Validation\n",
    "\n",
    "Here a simple example of startified 10 fold cross validation is shown. In the paper we used the biggest 250 orthologous clusters from KEGG, but here for simplicity 5 arbitrary clusters have been used (provided in sample_clusters)."
   ]
  },
  {
   "cell_type": "markdown",
   "metadata": {},
   "source": [
    "## Performing Cross Validation\n",
    "\n",
    "The steps of dividing the data into folds, training model and testing on validation set is conveniently encapsulated inside the *stratifiedKFoldCrossValidation* function of **OrthologClustering.py**"
   ]
  },
  {
   "cell_type": "code",
   "execution_count": null,
   "metadata": {},
   "outputs": [],
   "source": [
    "from OrthologClustering import stratifiedKFoldCrossValidation\n",
    "\n",
    "stratifiedKFoldCrossValidation('sample_data.p', K=5, n_clusters=5, id='test', n_child=2)"
   ]
  },
  {
   "cell_type": "markdown",
   "metadata": {},
   "source": [
    "## Analyzing Results\n",
    "\n",
    "The results of the cross validation test can be analyzed as..."
   ]
  },
  {
   "cell_type": "code",
   "execution_count": null,
   "metadata": {},
   "outputs": [],
   "source": [
    "from OrthologClustering import classificationPerformance\n",
    "\n",
    "classificationPerformance(result_file='ST10FoldResults-test.p')"
   ]
  },
  {
   "cell_type": "markdown",
   "metadata": {},
   "source": [
    "## Plotting Confusion Matrix"
   ]
  },
  {
   "cell_type": "code",
   "execution_count": null,
   "metadata": {},
   "outputs": [],
   "source": [
    "from OrthologClustering import plotConfusionMatrix\n",
    "\n",
    "plotConfusionMatrix(result_file='ST10FoldResults-test.p')"
   ]
  },
  {
   "cell_type": "markdown",
   "metadata": {},
   "source": [
    "# Outlier Detection"
   ]
  },
  {
   "cell_type": "code",
   "execution_count": null,
   "metadata": {},
   "outputs": [],
   "source": [
    "# TODO"
   ]
  }
 ],
 "metadata": {
  "kernelspec": {
   "display_name": "Python 3",
   "language": "python",
   "name": "python3"
  },
  "language_info": {
   "codemirror_mode": {
    "name": "ipython",
    "version": 3
   },
   "file_extension": ".py",
   "mimetype": "text/x-python",
   "name": "python",
   "nbconvert_exporter": "python",
   "pygments_lexer": "ipython3",
   "version": "3.5.2"
  },
  "toc": {
   "base_numbering": 1,
   "nav_menu": {},
   "number_sections": true,
   "sideBar": true,
   "skip_h1_title": false,
   "title_cell": "Table of Contents",
   "title_sidebar": "Contents",
   "toc_cell": false,
   "toc_position": {},
   "toc_section_display": true,
   "toc_window_display": false
  }
 },
 "nbformat": 4,
 "nbformat_minor": 2
}
